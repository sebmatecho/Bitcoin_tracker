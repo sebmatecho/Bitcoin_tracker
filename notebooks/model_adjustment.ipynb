{
  "cells": [
    {
      "cell_type": "markdown",
      "metadata": {
        "id": "view-in-github",
        "colab_type": "text"
      },
      "source": [
        "<a href=\"https://colab.research.google.com/github/sebmatecho/Bitcoin_tracker/blob/master/notebooks/model_adjustment.ipynb\" target=\"_parent\"><img src=\"https://colab.research.google.com/assets/colab-badge.svg\" alt=\"Open In Colab\"/></a>"
      ]
    },
    {
      "cell_type": "markdown",
      "source": [
        "# Model Adjustment"
      ],
      "metadata": {
        "id": "SIyNiAXg0iPs"
      }
    },
    {
      "cell_type": "code",
      "execution_count": 60,
      "metadata": {
        "vscode": {
          "languageId": "plaintext"
        },
        "id": "QI9s6UpG0gv8"
      },
      "outputs": [],
      "source": [
        "import pandas as pd\n",
        "from sklearn.model_selection import train_test_split, GridSearchCV\n",
        "from sklearn.linear_model import LinearRegression\n",
        "from sklearn.metrics import mean_squared_error\n",
        "from sklearn.compose import ColumnTransformer\n",
        "from sklearn.preprocessing import StandardScaler, OneHotEncoder"
      ]
    },
    {
      "cell_type": "code",
      "source": [
        "dataframe = pd.read_csv('bank-full.csv', sep = ';')"
      ],
      "metadata": {
        "id": "3LYrWDzi0uHT"
      },
      "execution_count": 2,
      "outputs": []
    },
    {
      "cell_type": "markdown",
      "source": [
        "Stuff to carry out:\n",
        "- job, marital, education, contact to be one-hot-encoded\n",
        "- balance, duration: trim outliers\n",
        "- pdays to be converted into binary (previously reached or not)\n",
        "- day and month to be represnted by cosine and sine?\n",
        "- poutcome?"
      ],
      "metadata": {
        "id": "5GQdZA0m06TE"
      }
    },
    {
      "cell_type": "code",
      "source": [
        "# trimming extreme values (outliers)\n",
        "dataframe = dataframe[(dataframe['balance']<10000) & (dataframe['duration']<1800)]"
      ],
      "metadata": {
        "id": "XmvTWIp001fT"
      },
      "execution_count": 3,
      "outputs": []
    },
    {
      "cell_type": "code",
      "source": [
        "dataframe['pdays'] = dataframe['pdays'].apply(lambda value: 0 if value==-1 else 1 )"
      ],
      "metadata": {
        "id": "If7s7f6a2Vto"
      },
      "execution_count": 4,
      "outputs": []
    },
    {
      "cell_type": "code",
      "source": [
        "dataframe['default'] = dataframe['default'].apply(lambda value: 1 if value =='yes' else 0)"
      ],
      "metadata": {
        "id": "WpRX1rUy2k47"
      },
      "execution_count": 5,
      "outputs": []
    },
    {
      "cell_type": "code",
      "source": [
        "dataframe['housing'] = dataframe['housing'].apply(lambda value: 1 if value =='yes' else 0)"
      ],
      "metadata": {
        "id": "564QS_KC3H07"
      },
      "execution_count": 6,
      "outputs": []
    },
    {
      "cell_type": "code",
      "source": [
        "dataframe['loan'] = dataframe['loan'].apply(lambda value: 1 if value =='yes' else 0)"
      ],
      "metadata": {
        "id": "nJh3POf13QXM"
      },
      "execution_count": 7,
      "outputs": []
    },
    {
      "cell_type": "code",
      "source": [
        "dataframe['y']= dataframe['y'].apply(lambda value: 1 if value =='yes' else 0)"
      ],
      "metadata": {
        "id": "ENOtJhMM5ojN"
      },
      "execution_count": 8,
      "outputs": []
    },
    {
      "cell_type": "code",
      "source": [
        "dataframe['month'] = dataframe['month'].replace({'may':5,\n",
        "                            'jun':6,\n",
        "                            'jul':7,\n",
        "                            'aug':8,\n",
        "                            'oct':10,\n",
        "                            'nov':11,\n",
        "                            'dec':12,\n",
        "                            'jan':1,\n",
        "                            'feb':2,\n",
        "                            'mar':3,\n",
        "                            'apr':4,\n",
        "                            'sep':9})"
      ],
      "metadata": {
        "id": "W-gHNH315F_o",
        "outputId": "69dda61d-cdf4-4060-e83f-0a23524dad45",
        "colab": {
          "base_uri": "https://localhost:8080/"
        }
      },
      "execution_count": 9,
      "outputs": [
        {
          "output_type": "stream",
          "name": "stderr",
          "text": [
            "<ipython-input-9-200fe70f4bc8>:1: FutureWarning: Downcasting behavior in `replace` is deprecated and will be removed in a future version. To retain the old behavior, explicitly call `result.infer_objects(copy=False)`. To opt-in to the future behavior, set `pd.set_option('future.no_silent_downcasting', True)`\n",
            "  dataframe['month'] = dataframe['month'].replace({'may':5,\n"
          ]
        }
      ]
    },
    {
      "cell_type": "code",
      "source": [
        "import numpy as np\n",
        "\n",
        "dataframe['day_sine'] = dataframe['day'].apply(lambda value: np.sin(2*value*np.pi/31))\n",
        "dataframe['day_cosine'] = dataframe['day'].apply(lambda value: np.cos(2*value*np.pi/31))\n",
        "\n",
        "dataframe['month_sine'] = dataframe['month'].apply(lambda value: np.sin(2*value*np.pi/12))\n",
        "dataframe['month_cosine'] = dataframe['month'].apply(lambda value: np.cos(2*value*np.pi/12))"
      ],
      "metadata": {
        "id": "8naKgZsu3YX_"
      },
      "execution_count": 10,
      "outputs": []
    },
    {
      "cell_type": "code",
      "source": [],
      "metadata": {
        "id": "RumwJ-gJt0nQ"
      },
      "execution_count": 10,
      "outputs": []
    },
    {
      "cell_type": "code",
      "source": [
        "dataframe = dataframe.drop(['day', 'month'], axis = 1)"
      ],
      "metadata": {
        "id": "4GMW67-Q42pj"
      },
      "execution_count": 11,
      "outputs": []
    },
    {
      "cell_type": "code",
      "source": [
        "X = dataframe.drop('y', axis = 1)\n",
        "y = dataframe['y']\n",
        "\n",
        "X_train, X_test, y_train, y_test = train_test_split(X, y,\n",
        "                                                    test_size = 0.3,\n",
        "                                                    random_state = 123)"
      ],
      "metadata": {
        "id": "lEnXqtFu6IQ4"
      },
      "execution_count": 12,
      "outputs": []
    },
    {
      "cell_type": "code",
      "source": [
        "def preprocessing_pipeline(dataframe):\n",
        "  numeric_features = ['age','balance','duration', 'campaign','previous']\n",
        "  time_features = ['day_sine', 'day_cosine', 'month_sine', 'month_cosine']\n",
        "  categorical_features = ['job', 'marital', 'education', 'contact', 'poutcome']\n",
        "\n",
        "\n",
        "  preprocessor = ColumnTransformer(transformers=[\n",
        "      ('num', StandardScaler(), numeric_features),\n",
        "      ('cat', OneHotEncoder(), categorical_features)\n",
        "  ])\n",
        "\n",
        "  dataframe_transformed = preprocessor.fit_transform(dataframe)\n",
        "\n",
        "  ohe_feature_names = preprocessor.named_transformers_['cat'].get_feature_names_out(categorical_features)\n",
        "  final_columns = numeric_features + list(ohe_feature_names)\n",
        "  X_train_preprocessed_df = pd.DataFrame(dataframe_transformed, columns=final_columns)\n",
        "\n",
        "  X_train_preprocessed_df = pd.concat([X_train_preprocessed_df,dataframe[time_features].reset_index(drop = True)], axis = 1)\n",
        "\n",
        "  return X_train_preprocessed_df"
      ],
      "metadata": {
        "id": "Y2Wk0jlr7cpI"
      },
      "execution_count": 13,
      "outputs": []
    },
    {
      "cell_type": "code",
      "source": [
        "X_train_processed = preprocessing_pipeline(X_train)\n",
        "X_test_processed = preprocessing_pipeline(X_test)\n",
        "\n"
      ],
      "metadata": {
        "id": "pXQnLJWLx26U"
      },
      "execution_count": 14,
      "outputs": []
    },
    {
      "cell_type": "code",
      "source": [
        "from sklearn.linear_model import LogisticRegression\n",
        "from sklearn.metrics import accuracy_score\n",
        "from sklearn.metrics import confusion_matrix\n",
        "from xgboost import XGBClassifier\n",
        "from sklearn.ensemble import RandomForestClassifier\n",
        "import lightgbm as lgb\n",
        "from sklearn import svm\n",
        "from sklearn.neighbors import KNeighborsClassifier\n",
        "from sklearn.naive_bayes import BernoulliNB\n",
        "\n",
        "# model = BernoulliNB()\n",
        "# model = KNeighborsClassifier()\n",
        "# model = lgb.LGBMClassifier(learning_rate=0.09,max_depth=-5,random_state=42)\n",
        "# model = RandomForestClassifier()\n",
        "model = XGBClassifier(objective=\"binary:logistic\",\n",
        "                      # enable_categorical=True,\n",
        "                      use_label_encoder=False,\n",
        "                      eval_metric=\"logloss\",\n",
        "                      random_state=42)\n",
        "# model = LogisticRegression()\n",
        "# model = svm.SVC()\n",
        "model.fit(X_train_processed, y_train)\n",
        "y_hat = model.predict(X_test_processed)\n",
        "accuracy_score(y_test, y_hat)"
      ],
      "metadata": {
        "id": "AZbw63zMw7n6",
        "outputId": "24a54c0f-d897-4a0a-a047-69b8d02f86f8",
        "colab": {
          "base_uri": "https://localhost:8080/"
        }
      },
      "execution_count": 69,
      "outputs": [
        {
          "output_type": "stream",
          "name": "stderr",
          "text": [
            "/usr/local/lib/python3.11/dist-packages/xgboost/core.py:158: UserWarning: [23:57:40] WARNING: /workspace/src/learner.cc:740: \n",
            "Parameters: { \"use_label_encoder\" } are not used.\n",
            "\n",
            "  warnings.warn(smsg, UserWarning)\n"
          ]
        },
        {
          "output_type": "execute_result",
          "data": {
            "text/plain": [
              "0.9650681321990514"
            ]
          },
          "metadata": {},
          "execution_count": 69
        }
      ]
    },
    {
      "cell_type": "code",
      "source": [
        "\n",
        "\n",
        "# Define the parameter grid\n",
        "param_grid = {\n",
        "    \"n_estimators\": [100, 200, 300],\n",
        "    \"max_depth\": [3, 5, 7],\n",
        "    \"learning_rate\": [0.1, 0.01, 0.001],\n",
        "    \"subsample\": [0.8, 1.0],\n",
        "    \"colsample_bytree\": [0.8, 1.0],\n",
        "    \"min_child_weight\": [1, 3, 5],\n",
        "    \"gamma\": [0, 1, 5],\n",
        "    \"reg_alpha\": [0, 1, 10],\n",
        "    \"reg_lambda\": [0, 1, 10],\n",
        "}\n",
        "\n",
        "# Set up GridSearchCV\n",
        "grid_search = GridSearchCV(\n",
        "    estimator = model,\n",
        "    param_grid = param_grid,\n",
        "    scoring = \"roc_auc\",\n",
        "    cv = 5,\n",
        "    verbose = 1,\n",
        "    n_jobs = -1\n",
        ")\n",
        "\n",
        "# Fit the grid search\n",
        "final = grid_search.fit(X_train_processed, y_train)\n",
        "y_test = final.predict(X_test_processed)\n",
        "print(accuracy_score(y_test, y_hat))\n",
        "\n",
        "# Print the best parameters and score\n",
        "print(\"Best parameters:\", grid_search.best_params_)\n",
        "print(\"Best cross-validation score:\", grid_search.best_score_)\n",
        "# itting 5 folds for each of 8748 candidates, totalling 43740 fits"
      ],
      "metadata": {
        "id": "hQljbT1G40Ys",
        "outputId": "204ed323-8a88-40d8-cf53-a7bf09a100ec",
        "colab": {
          "base_uri": "https://localhost:8080/"
        }
      },
      "execution_count": null,
      "outputs": [
        {
          "output_type": "stream",
          "name": "stdout",
          "text": [
            "Fitting 5 folds for each of 8748 candidates, totalling 43740 fits\n"
          ]
        }
      ]
    },
    {
      "cell_type": "code",
      "source": [
        "confusion_matrix(y_test, y_hat)"
      ],
      "metadata": {
        "id": "ZfhU-cbsyufq"
      },
      "execution_count": null,
      "outputs": []
    },
    {
      "cell_type": "code",
      "source": [],
      "metadata": {
        "id": "YcMrcNw_4hdr"
      },
      "execution_count": null,
      "outputs": []
    },
    {
      "cell_type": "code",
      "source": [],
      "metadata": {
        "id": "fGfE1iiz4hZj"
      },
      "execution_count": null,
      "outputs": []
    }
  ],
  "metadata": {
    "language_info": {
      "name": "python"
    },
    "colab": {
      "provenance": [],
      "gpuType": "T4",
      "include_colab_link": true
    },
    "kernelspec": {
      "name": "python3",
      "display_name": "Python 3"
    },
    "accelerator": "GPU"
  },
  "nbformat": 4,
  "nbformat_minor": 0
}